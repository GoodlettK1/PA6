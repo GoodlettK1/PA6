{
 "cells": [
  {
   "cell_type": "markdown",
   "id": "a49e73f0",
   "metadata": {},
   "source": [
    "## Programming Assignment 6\n",
    "CS150-01  Fall 2023-ON\n",
    "Keith Goodlett"
   ]
  },
  {
   "cell_type": "markdown",
   "id": "0fa73876",
   "metadata": {},
   "source": [
    "### Task1: Write a Python program will calculate the area and perimeter of a triangle using two different functions named calcArea() and calcPerimeter()."
   ]
  },
  {
   "cell_type": "code",
   "execution_count": 4,
   "id": "02c75578",
   "metadata": {},
   "outputs": [
    {
     "name": "stdout",
     "output_type": "stream",
     "text": [
      "Enter the length of side A: 4\n",
      "Enter the length of side B: 6\n",
      "Enter the length of side C: 8\n",
      "The area of the triangle is approximately 11.618950 square units.\n",
      "The perimeter of the triangle is 18.0 linear units.\n",
      "The area of the triangle is approximately 0.433013 square units.\n",
      "The perimeter of the triangle is 3 linear units.\n"
     ]
    }
   ],
   "source": [
    "import math\n",
    "\n",
    "def calc_Area(side1=1, side2=1, side3=1):\n",
    "    s = (side1 + side2 + side3) / 2\n",
    "    area = math.sqrt(s * (s - side1) * (s - side2) * (s - side3))\n",
    "    return area\n",
    "\n",
    "def calc_Perimeter(side1=1, side2=1, side3=1):\n",
    "    perimeter = side1 + side2 + side3\n",
    "    return perimeter\n",
    "\n",
    "sideA = float(input(\"Enter the length of side A: \"))\n",
    "sideB = float(input(\"Enter the length of side B: \"))\n",
    "sideC = float(input(\"Enter the length of side C: \"))\n",
    "\n",
    "area = calc_Area(sideA, sideB, sideC)\n",
    "perimeter = calc_Perimeter(sideA, sideB, sideC)\n",
    "\n",
    "print(f\"The area of the triangle is approximately {area:f} square units.\")\n",
    "print(f\"The perimeter of the triangle is {perimeter} linear units.\")\n",
    "\n",
    "area = calc_Area()\n",
    "perimeter = calc_Perimeter()\n",
    "\n",
    "print(f\"The area of the triangle is approximately {area:f} square units.\")\n",
    "print(f\"The perimeter of the triangle is {perimeter} linear units.\")"
   ]
  },
  {
   "cell_type": "markdown",
   "id": "0471d886",
   "metadata": {},
   "source": [
    "### Task2: Write a Python program to play “Guess the Number”. "
   ]
  },
  {
   "cell_type": "code",
   "execution_count": 11,
   "id": "041b9b8c",
   "metadata": {},
   "outputs": [
    {
     "name": "stdout",
     "output_type": "stream",
     "text": [
      "Enter your guess: 33\n",
      "Too low! Guess again\n",
      "Enter your guess: 908\n",
      "Too high! Guess again\n",
      "Enter your guess: 349\n",
      "Correct!\n"
     ]
    }
   ],
   "source": [
    "def evaluate_Guess(guess, target):\n",
    "    if guess < target:\n",
    "        return \"Too low! Guess again\"\n",
    "    elif guess > target:\n",
    "        return \"Too high! Guess again\"\n",
    "    else:\n",
    "        return \"Correct!\"\n",
    "\n",
    "def main():\n",
    "    target_number = 349\n",
    "\n",
    "    while True:\n",
    "        user_guess = int(input(\"Enter your guess: \"))\n",
    "        result = evaluate_Guess(user_guess, target_number)\n",
    "        print(result)\n",
    "\n",
    "        if result == \"Correct!\":\n",
    "            break\n",
    "\n",
    "if __name__ == \"__main__\":\n",
    "    main()"
   ]
  },
  {
   "cell_type": "markdown",
   "id": "4ac467cb",
   "metadata": {},
   "source": [
    "### Task3: Write a Python program to calculate the mean temperature over a set of Fahrenheit temperature values."
   ]
  },
  {
   "cell_type": "code",
   "execution_count": 12,
   "id": "ccf31576",
   "metadata": {},
   "outputs": [
    {
     "name": "stdout",
     "output_type": "stream",
     "text": [
      "The mean temperature for the past 7 days is 51 degrees F.\n",
      "The mean temperature for the past 5 days is 51 degrees F.\n",
      "The mean temperature for the past 2 days is 52 degrees F.\n"
     ]
    }
   ],
   "source": [
    "def mean_Temp(*temperatures):\n",
    "    days = len(temperatures)\n",
    "    mean_temperature = sum(temperatures) / days\n",
    "    return mean_temperature, days\n",
    "\n",
    "temps1 = [47, 51, 53, 52, 49, 53, 50]\n",
    "temps2 = [53, 52, 49, 53, 50]\n",
    "temps3 = [53, 50]\n",
    "\n",
    "mean1, days1 = mean_Temp(*temps1)\n",
    "mean2, days2 = mean_Temp(*temps2)\n",
    "mean3, days3 = mean_Temp(*temps3)\n",
    "\n",
    "print(f\"The mean temperature for the past {days1} days is {mean1:.0f} degrees F.\")\n",
    "print(f\"The mean temperature for the past {days2} days is {mean2:.0f} degrees F.\")\n",
    "print(f\"The mean temperature for the past {days3} days is {mean3:.0f} degrees F.\")"
   ]
  },
  {
   "cell_type": "code",
   "execution_count": null,
   "id": "a80b1324",
   "metadata": {},
   "outputs": [],
   "source": []
  }
 ],
 "metadata": {
  "kernelspec": {
   "display_name": "Python 3 (ipykernel)",
   "language": "python",
   "name": "python3"
  },
  "language_info": {
   "codemirror_mode": {
    "name": "ipython",
    "version": 3
   },
   "file_extension": ".py",
   "mimetype": "text/x-python",
   "name": "python",
   "nbconvert_exporter": "python",
   "pygments_lexer": "ipython3",
   "version": "3.11.5"
  }
 },
 "nbformat": 4,
 "nbformat_minor": 5
}
